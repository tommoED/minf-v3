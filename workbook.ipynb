{
 "cells": [
  {
   "cell_type": "code",
   "execution_count": 1,
   "metadata": {},
   "outputs": [],
   "source": [
    "from spectralcodec.Spectrum import Spectrum"
   ]
  },
  {
   "cell_type": "code",
   "execution_count": 6,
   "metadata": {},
   "outputs": [
    {
     "name": "stderr",
     "output_type": "stream",
     "text": [
      "c:\\Users\\tctom\\Projects\\MInf-V3\\spectralcodec\\Spectrum.py:26: WavFileWarning: Chunk (non-data) not understood, skipping it.\n",
      "  rate, sample = wav.read(wavfile)\n"
     ]
    },
    {
     "name": "stdout",
     "output_type": "stream",
     "text": [
      "(1664, 1024, 2)\n",
      "(1664, 512, 2)\n"
     ]
    }
   ],
   "source": [
    "spectrum = Spectrum.from_wav (\"samples/feel good.wav\")\n",
    "\n",
    "spectrum.save(\"processed/feel good.tiff\")\n",
    "\n"
   ]
  },
  {
   "cell_type": "code",
   "execution_count": 7,
   "metadata": {},
   "outputs": [
    {
     "ename": "AttributeError",
     "evalue": "type object 'Spectrum' has no attribute 'from_tiff'",
     "output_type": "error",
     "traceback": [
      "\u001b[1;31m---------------------------------------------------------------------------\u001b[0m",
      "\u001b[1;31mAttributeError\u001b[0m                            Traceback (most recent call last)",
      "Cell \u001b[1;32mIn[7], line 1\u001b[0m\n\u001b[1;32m----> 1\u001b[0m modified \u001b[38;5;241m=\u001b[39m \u001b[43mSpectrum\u001b[49m\u001b[38;5;241;43m.\u001b[39;49m\u001b[43mfrom_tiff\u001b[49m(\u001b[38;5;124m\"\u001b[39m\u001b[38;5;124mprocessed/feel good.tiff\u001b[39m\u001b[38;5;124m\"\u001b[39m)\n\u001b[0;32m      3\u001b[0m modified\u001b[38;5;241m.\u001b[39mexport(\u001b[38;5;124m\"\u001b[39m\u001b[38;5;124mprocessed/feel good.wav\u001b[39m\u001b[38;5;124m\"\u001b[39m)\n",
      "\u001b[1;31mAttributeError\u001b[0m: type object 'Spectrum' has no attribute 'from_tiff'"
     ]
    }
   ],
   "source": [
    "modified = Spectrum.from_tiffs(\"processed/feel good.tiff\")\n",
    "\n",
    "modified.export(\"processed/feel good.wav\")"
   ]
  }
 ],
 "metadata": {
  "kernelspec": {
   "display_name": ".venv",
   "language": "python",
   "name": "python3"
  },
  "language_info": {
   "codemirror_mode": {
    "name": "ipython",
    "version": 3
   },
   "file_extension": ".py",
   "mimetype": "text/x-python",
   "name": "python",
   "nbconvert_exporter": "python",
   "pygments_lexer": "ipython3",
   "version": "3.12.0"
  }
 },
 "nbformat": 4,
 "nbformat_minor": 2
}
